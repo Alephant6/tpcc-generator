{
 "cells": [
  {
   "cell_type": "code",
   "execution_count": 1,
   "metadata": {},
   "outputs": [],
   "source": [
    "import pandas as pd"
   ]
  },
  {
   "cell_type": "code",
   "execution_count": 2,
   "metadata": {},
   "outputs": [],
   "source": [
    "df = pd.read_csv('tpcc_table.csv', header=None)"
   ]
  },
  {
   "cell_type": "code",
   "execution_count": 3,
   "metadata": {},
   "outputs": [
    {
     "name": "stdout",
     "output_type": "stream",
     "text": [
      "               min               max\n",
      "1                                   \n",
      "1  126003120963601   126003123322897\n",
      "2          4456466       12585533458\n",
      "3       8812494867       12585533459\n",
      "4          4456468       12585533460\n",
      "5               21           1600005\n",
      "6           262166       26214400022\n",
      "7   70368748634135  1055543742431255\n",
      "9      18276417561    51551918358553\n"
     ]
    }
   ],
   "source": [
    "grouped_stats = df.groupby(1)[0].agg(['min', 'max'])\n",
    "\n",
    "print(grouped_stats)"
   ]
  },
  {
   "cell_type": "code",
   "execution_count": 4,
   "metadata": {},
   "outputs": [
    {
     "name": "stdout",
     "output_type": "stream",
     "text": [
      "   1              min               max\n",
      "0  1  126003120963601   126003123322897\n",
      "1  2          4456466       12585533458\n",
      "2  3       8812494867       12585533459\n",
      "3  4          4456468       12585533460\n",
      "4  5               21           1600005\n",
      "5  6           262166       26214400022\n",
      "6  7   70368748634135  1055543742431255\n",
      "7  9      18276417561    51551918358553\n"
     ]
    }
   ],
   "source": [
    "grouped_stats = df.groupby(1)[0].agg(['min', 'max']).reset_index()\n",
    "\n",
    "print(grouped_stats)"
   ]
  },
  {
   "cell_type": "code",
   "execution_count": null,
   "metadata": {},
   "outputs": [],
   "source": []
  }
 ],
 "metadata": {
  "kernelspec": {
   "display_name": "Python 3",
   "language": "python",
   "name": "python3"
  },
  "language_info": {
   "codemirror_mode": {
    "name": "ipython",
    "version": 3
   },
   "file_extension": ".py",
   "mimetype": "text/x-python",
   "name": "python",
   "nbconvert_exporter": "python",
   "pygments_lexer": "ipython3",
   "version": "3.10.12"
  }
 },
 "nbformat": 4,
 "nbformat_minor": 2
}
